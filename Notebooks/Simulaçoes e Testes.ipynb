{
 "cells": [
  {
   "cell_type": "code",
   "execution_count": 1,
   "metadata": {},
   "outputs": [],
   "source": [
    "import matplotlib.pyplot as plt\n",
    "import numpy as np\n",
    "import pandas as pd\n",
    "import nltk\n",
    "import csv\n",
    "\n",
    "from sklearn.model_selection import cross_val_score\n",
    "from sklearn.multiclass import OneVsRestClassifier, OneVsOneClassifier\n",
    "from sklearn.svm import LinearSVC\n",
    "from sklearn.svm import SVC\n",
    "from sklearn.naive_bayes import MultinomialNB\n",
    "from sklearn.ensemble import AdaBoostClassifier\n",
    "from sklearn.tree import DecisionTreeClassifier\n",
    "from sklearn.ensemble import RandomForestClassifier\n",
    "from sklearn.linear_model import LogisticRegression\n",
    "from sklearn.metrics import average_precision_score, accuracy_score, confusion_matrix, classification_report, f1_score, precision_score, recall_score\n",
    "from sklearn.feature_extraction.text import CountVectorizer\n",
    "from sklearn.model_selection import train_test_split\n",
    "from sklearn.model_selection import StratifiedShuffleSplit\n",
    "from collections import Counter\n",
    "from sklearn.model_selection import cross_val_predict"
   ]
  },
  {
   "cell_type": "code",
   "execution_count": 2,
   "metadata": {},
   "outputs": [],
   "source": [
    "df_final = pd.read_excel('..\\dados.xlsx', sheet_name='DS-PN-ID', encoding='utf-8')"
   ]
  },
  {
   "cell_type": "code",
   "execution_count": 3,
   "metadata": {},
   "outputs": [],
   "source": [
    "X = df_final.Text.values\n",
    "y = df_final.Sentimento.values "
   ]
  },
  {
   "cell_type": "code",
   "execution_count": 4,
   "metadata": {},
   "outputs": [],
   "source": [
    "treino_dados, validacao_dados, treino_marcacoes, validacao_marcacoes = train_test_split(X, y, test_size=0.2, random_state=42)"
   ]
  },
  {
   "cell_type": "code",
   "execution_count": 5,
   "metadata": {},
   "outputs": [],
   "source": [
    "vectorizer = CountVectorizer(analyzer = \"word\")\n",
    "bow_treino = vectorizer.fit_transform(treino_dados)"
   ]
  },
  {
   "cell_type": "code",
   "execution_count": 13,
   "metadata": {},
   "outputs": [],
   "source": [
    "def fit_and_predict(nome, modelo, treino_dados, treino_marcacoes):\n",
    "    resultado = modelo.fit(treino_dados, treino_marcacoes)\n",
    "    fit_and_predict_score = str(modelo.score(treino_dados, treino_marcacoes))\n",
    "    print(\"ETAPA TREINO \"+ nome + \"- Acurácia: \" + fit_and_predict_score)\n",
    "    #print(\"Devio Padrão: \" + str(np.std(treino_dados,  dtype=np.float64)))\n",
    "    print(\"==============================================================\")\n",
    "    return fit_and_predict_score"
   ]
  },
  {
   "cell_type": "code",
   "execution_count": 14,
   "metadata": {},
   "outputs": [],
   "source": [
    "def cria_modelos(treino_dados, treino_marcacoes):\n",
    "    resultados = {}\n",
    "    \n",
    "    # MultinomialNB\n",
    "    modeloMultinomial = MultinomialNB(alpha=1.0, fit_prior=True)\n",
    "    resultadoMultinomial = fit_and_predict(\"MultinomialNB\", modeloMultinomial, treino_dados, treino_marcacoes)\n",
    "    resultados[resultadoMultinomial] = modeloMultinomial\n",
    "    \n",
    "    # AdaBoostClassifier\n",
    "    modeloAdaBoost = AdaBoostClassifier(random_state=0)\n",
    "    resultadoAdaBoost = fit_and_predict(\"AdaBoostClassifier\", modeloAdaBoost, treino_dados, treino_marcacoes)\n",
    "    resultados[resultadoAdaBoost] = modeloAdaBoost\n",
    "    \n",
    "    modeloDecisionTree = DecisionTreeClassifier(random_state=0)\n",
    "    resultadoDecisionTree = fit_and_predict(\"DecisionTree\", modeloDecisionTree, treino_dados, treino_marcacoes)\n",
    "    resultados[resultadoDecisionTree] = modeloDecisionTree\n",
    "\n",
    "    modeloRandomForest = RandomForestClassifier(random_state=0)\n",
    "    resultadoRandomForest = fit_and_predict(\"RandomForest\", modeloRandomForest, treino_dados, treino_marcacoes)\n",
    "    resultados[resultadoRandomForest] = modeloRandomForest\n",
    "\n",
    "    modeloLogisticRegression = LogisticRegression(random_state = 0)\n",
    "    resultadoLogisticRegression = fit_and_predict(\"LogisticRegression\", modeloLogisticRegression, treino_dados, treino_marcacoes)\n",
    "    resultados[resultadoLogisticRegression] = modeloLogisticRegression\n",
    "\n",
    "    #Verifica qual modelo teve a melhor perfomance\n",
    "    maximo = max(resultados)\n",
    "    return resultados[maximo], resultados"
   ]
  },
  {
   "cell_type": "code",
   "execution_count": 15,
   "metadata": {},
   "outputs": [
    {
     "name": "stdout",
     "output_type": "stream",
     "text": [
      "ETAPA TREINO MultinomialNB- Acurácia: 0.9763779527559056\n",
      "==============================================================\n",
      "ETAPA TREINO AdaBoostClassifier- Acurácia: 0.8720472440944882\n",
      "==============================================================\n",
      "ETAPA TREINO DecisionTree- Acurácia: 1.0\n",
      "==============================================================\n",
      "ETAPA TREINO RandomForest- Acurácia: 0.9921259842519685\n",
      "==============================================================\n",
      "ETAPA TREINO LogisticRegression- Acurácia: 1.0\n",
      "==============================================================\n",
      "Modelo vencedor: LogisticRegression(C=1.0, class_weight=None, dual=False, fit_intercept=True,\n",
      "          intercept_scaling=1, max_iter=100, multi_class='warn',\n",
      "          n_jobs=None, penalty='l2', random_state=0, solver='warn',\n",
      "          tol=0.0001, verbose=0, warm_start=False)\n",
      "\n"
     ]
    },
    {
     "name": "stderr",
     "output_type": "stream",
     "text": [
      "C:\\ProgramData\\Anaconda3\\lib\\site-packages\\sklearn\\ensemble\\forest.py:246: FutureWarning: The default value of n_estimators will change from 10 in version 0.20 to 100 in 0.22.\n",
      "  \"10 in version 0.20 to 100 in 0.22.\", FutureWarning)\n",
      "C:\\ProgramData\\Anaconda3\\lib\\site-packages\\sklearn\\linear_model\\logistic.py:433: FutureWarning: Default solver will be changed to 'lbfgs' in 0.22. Specify a solver to silence this warning.\n",
      "  FutureWarning)\n"
     ]
    },
    {
     "ename": "NameError",
     "evalue": "name 'pre_processamento' is not defined",
     "output_type": "error",
     "traceback": [
      "\u001b[1;31m---------------------------------------------------------------------------\u001b[0m",
      "\u001b[1;31mNameError\u001b[0m                                 Traceback (most recent call last)",
      "\u001b[1;32m<ipython-input-15-0a63d25678b0>\u001b[0m in \u001b[0;36m<module>\u001b[1;34m\u001b[0m\n\u001b[0;32m      4\u001b[0m \u001b[1;31m#Validando o modelo com novos dados\u001b[0m\u001b[1;33m\u001b[0m\u001b[1;33m\u001b[0m\u001b[1;33m\u001b[0m\u001b[0m\n\u001b[0;32m      5\u001b[0m \u001b[0mvencedor\u001b[0m\u001b[1;33m.\u001b[0m\u001b[0mfit\u001b[0m\u001b[1;33m(\u001b[0m\u001b[0mbow_treino\u001b[0m\u001b[1;33m,\u001b[0m \u001b[0mtreino_marcacoes\u001b[0m\u001b[1;33m)\u001b[0m\u001b[1;33m\u001b[0m\u001b[1;33m\u001b[0m\u001b[0m\n\u001b[1;32m----> 6\u001b[1;33m \u001b[0mbow_validacao\u001b[0m \u001b[1;33m=\u001b[0m \u001b[0mpre_processamento\u001b[0m\u001b[1;33m(\u001b[0m\u001b[0mvalidacao_dados\u001b[0m\u001b[1;33m)\u001b[0m\u001b[1;33m\u001b[0m\u001b[1;33m\u001b[0m\u001b[0m\n\u001b[0m",
      "\u001b[1;31mNameError\u001b[0m: name 'pre_processamento' is not defined"
     ]
    }
   ],
   "source": [
    "vencedor,resultados = cria_modelos(bow_treino, treino_marcacoes)\n",
    "print(\"Modelo vencedor: \" + str(vencedor)+\"\\n\")\n",
    "\n",
    "#Validando o modelo com novos dados\n",
    "vencedor.fit(bow_treino, treino_marcacoes)\n",
    "bow_validacao = pre_processamento(validacao_dados)"
   ]
  },
  {
   "cell_type": "code",
   "execution_count": null,
   "metadata": {},
   "outputs": [],
   "source": []
  }
 ],
 "metadata": {
  "kernelspec": {
   "display_name": "Python 3",
   "language": "python",
   "name": "python3"
  },
  "language_info": {
   "codemirror_mode": {
    "name": "ipython",
    "version": 3
   },
   "file_extension": ".py",
   "mimetype": "text/x-python",
   "name": "python",
   "nbconvert_exporter": "python",
   "pygments_lexer": "ipython3",
   "version": "3.7.1"
  }
 },
 "nbformat": 4,
 "nbformat_minor": 2
}
