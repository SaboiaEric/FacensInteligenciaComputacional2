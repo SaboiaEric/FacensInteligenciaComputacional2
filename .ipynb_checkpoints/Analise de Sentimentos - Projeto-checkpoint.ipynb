{
 "cells": [
  {
   "cell_type": "markdown",
   "metadata": {},
   "source": [
    "#### Análise de Sentimentos\n",
    "    Resumo:\n",
    "    Link da documentação:\n",
    "    Link do repositório:\n",
    "    \n",
    "Integrantes: <br>\n",
    "    Bruno Sampaio <br>\n",
    "    Eric Saboia <br>\n",
    "    Gabriel Puente <br>\n",
    "    Israel Junior <br>"
   ]
  },
  {
   "cell_type": "markdown",
   "metadata": {},
   "source": [
    "#### 1. Importações para o projeto"
   ]
  },
  {
   "cell_type": "code",
   "execution_count": 1,
   "metadata": {},
   "outputs": [],
   "source": [
    "import matplotlib.pyplot as plt\n",
    "import numpy as np\n",
    "import pandas as pd\n",
    "import nltk\n",
    "import csv\n",
    "\n",
    "from sklearn.model_selection import cross_val_score\n",
    "from sklearn.multiclass import OneVsRestClassifier, OneVsOneClassifier\n",
    "from sklearn.svm import LinearSVC\n",
    "from sklearn.svm import SVC\n",
    "from sklearn.naive_bayes import MultinomialNB\n",
    "from sklearn.ensemble import AdaBoostClassifier\n",
    "from sklearn.tree import DecisionTreeClassifier\n",
    "from sklearn.ensemble import RandomForestClassifier\n",
    "from sklearn.linear_model import LogisticRegression\n",
    "from sklearn.metrics import average_precision_score, accuracy_score, confusion_matrix, classification_report, f1_score, precision_score, recall_score\n",
    "from sklearn.feature_extraction.text import CountVectorizer\n",
    "from sklearn.model_selection import train_test_split\n",
    "from sklearn.model_selection import StratifiedShuffleSplit\n",
    "from collections import Counter"
   ]
  },
  {
   "cell_type": "markdown",
   "metadata": {},
   "source": [
    "#### 2. Importações dos dados e Análise Exploratória"
   ]
  },
  {
   "cell_type": "code",
   "execution_count": 2,
   "metadata": {},
   "outputs": [
    {
     "data": {
      "text/plain": [
       "(636, 3)"
      ]
     },
     "execution_count": 2,
     "metadata": {},
     "output_type": "execute_result"
    }
   ],
   "source": [
    "tweets = pd.read_excel('dados.xlsx', sheet_name='DS-PN-ID', encoding='utf-8')\n",
    "tweets.shape"
   ]
  },
  {
   "cell_type": "code",
   "execution_count": 3,
   "metadata": {},
   "outputs": [
    {
     "data": {
      "text/html": [
       "<div>\n",
       "<style scoped>\n",
       "    .dataframe tbody tr th:only-of-type {\n",
       "        vertical-align: middle;\n",
       "    }\n",
       "\n",
       "    .dataframe tbody tr th {\n",
       "        vertical-align: top;\n",
       "    }\n",
       "\n",
       "    .dataframe thead th {\n",
       "        text-align: right;\n",
       "    }\n",
       "</style>\n",
       "<table border=\"1\" class=\"dataframe\">\n",
       "  <thead>\n",
       "    <tr style=\"text-align: right;\">\n",
       "      <th></th>\n",
       "      <th>Text</th>\n",
       "      <th>Id</th>\n",
       "      <th>Sentimento</th>\n",
       "    </tr>\n",
       "  </thead>\n",
       "  <tbody>\n",
       "    <tr>\n",
       "      <th>0</th>\n",
       "      <td>Vc q é a favor de intervenção militar, eleitor...</td>\n",
       "      <td>1001858194694602752</td>\n",
       "      <td>0</td>\n",
       "    </tr>\n",
       "    <tr>\n",
       "      <th>1</th>\n",
       "      <td>@henricarneiro Sim, aí a \"nossa gente\" vai lá ...</td>\n",
       "      <td>1001858936650203136</td>\n",
       "      <td>0</td>\n",
       "    </tr>\n",
       "    <tr>\n",
       "      <th>2</th>\n",
       "      <td>@emirsader Vão lá apoiar Bolsonaro então ou ma...</td>\n",
       "      <td>1001859072172453888</td>\n",
       "      <td>0</td>\n",
       "    </tr>\n",
       "    <tr>\n",
       "      <th>3</th>\n",
       "      <td>@JaildonLima Esse Bolsonaro é um acéfalo ; ver...</td>\n",
       "      <td>1001862136207958018</td>\n",
       "      <td>0</td>\n",
       "    </tr>\n",
       "    <tr>\n",
       "      <th>4</th>\n",
       "      <td>Um cara com a camisa do Bolsonaro no ônibus. E...</td>\n",
       "      <td>1001863478225915905</td>\n",
       "      <td>0</td>\n",
       "    </tr>\n",
       "  </tbody>\n",
       "</table>\n",
       "</div>"
      ],
      "text/plain": [
       "                                                Text                   Id  \\\n",
       "0  Vc q é a favor de intervenção militar, eleitor...  1001858194694602752   \n",
       "1  @henricarneiro Sim, aí a \"nossa gente\" vai lá ...  1001858936650203136   \n",
       "2  @emirsader Vão lá apoiar Bolsonaro então ou ma...  1001859072172453888   \n",
       "3  @JaildonLima Esse Bolsonaro é um acéfalo ; ver...  1001862136207958018   \n",
       "4  Um cara com a camisa do Bolsonaro no ônibus. E...  1001863478225915905   \n",
       "\n",
       "   Sentimento  \n",
       "0           0  \n",
       "1           0  \n",
       "2           0  \n",
       "3           0  \n",
       "4           0  "
      ]
     },
     "execution_count": 3,
     "metadata": {},
     "output_type": "execute_result"
    }
   ],
   "source": [
    "tweets.head()"
   ]
  },
  {
   "cell_type": "code",
   "execution_count": 4,
   "metadata": {
    "scrolled": true
   },
   "outputs": [
    {
     "data": {
      "text/html": [
       "<div>\n",
       "<style scoped>\n",
       "    .dataframe tbody tr th:only-of-type {\n",
       "        vertical-align: middle;\n",
       "    }\n",
       "\n",
       "    .dataframe tbody tr th {\n",
       "        vertical-align: top;\n",
       "    }\n",
       "\n",
       "    .dataframe thead th {\n",
       "        text-align: right;\n",
       "    }\n",
       "</style>\n",
       "<table border=\"1\" class=\"dataframe\">\n",
       "  <thead>\n",
       "    <tr style=\"text-align: right;\">\n",
       "      <th></th>\n",
       "      <th>Id</th>\n",
       "      <th>Sentimento</th>\n",
       "    </tr>\n",
       "  </thead>\n",
       "  <tbody>\n",
       "    <tr>\n",
       "      <th>count</th>\n",
       "      <td>6.360000e+02</td>\n",
       "      <td>636.000000</td>\n",
       "    </tr>\n",
       "    <tr>\n",
       "      <th>mean</th>\n",
       "      <td>1.003848e+18</td>\n",
       "      <td>0.485849</td>\n",
       "    </tr>\n",
       "    <tr>\n",
       "      <th>std</th>\n",
       "      <td>1.196112e+15</td>\n",
       "      <td>0.500193</td>\n",
       "    </tr>\n",
       "    <tr>\n",
       "      <th>min</th>\n",
       "      <td>1.001858e+18</td>\n",
       "      <td>0.000000</td>\n",
       "    </tr>\n",
       "    <tr>\n",
       "      <th>25%</th>\n",
       "      <td>1.003031e+18</td>\n",
       "      <td>0.000000</td>\n",
       "    </tr>\n",
       "    <tr>\n",
       "      <th>50%</th>\n",
       "      <td>1.003794e+18</td>\n",
       "      <td>0.000000</td>\n",
       "    </tr>\n",
       "    <tr>\n",
       "      <th>75%</th>\n",
       "      <td>1.005185e+18</td>\n",
       "      <td>1.000000</td>\n",
       "    </tr>\n",
       "    <tr>\n",
       "      <th>max</th>\n",
       "      <td>1.005285e+18</td>\n",
       "      <td>1.000000</td>\n",
       "    </tr>\n",
       "  </tbody>\n",
       "</table>\n",
       "</div>"
      ],
      "text/plain": [
       "                 Id  Sentimento\n",
       "count  6.360000e+02  636.000000\n",
       "mean   1.003848e+18    0.485849\n",
       "std    1.196112e+15    0.500193\n",
       "min    1.001858e+18    0.000000\n",
       "25%    1.003031e+18    0.000000\n",
       "50%    1.003794e+18    0.000000\n",
       "75%    1.005185e+18    1.000000\n",
       "max    1.005285e+18    1.000000"
      ]
     },
     "execution_count": 4,
     "metadata": {},
     "output_type": "execute_result"
    }
   ],
   "source": [
    "tweets.describe()"
   ]
  },
  {
   "cell_type": "markdown",
   "metadata": {},
   "source": [
    "#### 3. Técnicas Genéricas de Tratamento de dados\n",
    "    Funções simples para tratar dados"
   ]
  },
  {
   "cell_type": "code",
   "execution_count": 14,
   "metadata": {},
   "outputs": [],
   "source": [
    "def transformacao_minuscula(texto):\n",
    "    texto = texto.str.lower()\n",
    "    return texto"
   ]
  },
  {
   "cell_type": "code",
   "execution_count": 13,
   "metadata": {},
   "outputs": [],
   "source": [
    "def separa_atributos_rotulos(dados):\n",
    "    atributos = tweets.Text\n",
    "    rotulos = tweets.Sentimento\n",
    "    return atributos, rotulos"
   ]
  },
  {
   "cell_type": "markdown",
   "metadata": {},
   "source": [
    "#### 4. Técnicas de Processamento de Linguagem Natural (PLN)\n",
    "    Funções de aplicações das técnicas de PLN"
   ]
  },
  {
   "cell_type": "code",
   "execution_count": 8,
   "metadata": {},
   "outputs": [],
   "source": [
    "def vetorizar_texto(texto, tradutor, stemmer):\n",
    "    vetor = [0] * len(tradutor)\n",
    "    for palavra in texto:\n",
    "        if len(palavra) > 0:\n",
    "            raiz = stemmer.stem(palavra)\n",
    "            if raiz in tradutor:\n",
    "                posicao = tradutor[raiz]\n",
    "                vetor[posicao] += 1\n",
    "    return vetor"
   ]
  },
  {
   "cell_type": "code",
   "execution_count": 9,
   "metadata": {},
   "outputs": [],
   "source": [
    "def pre_processamento(dados):\n",
    "    textosTokenizados = [nltk.tokenize.word_tokenize(frase) for frase in dados]\n",
    "\n",
    "    stopwords = nltk.corpus.stopwords.words('portuguese')\n",
    "    \n",
    "    stemmer = nltk.stem.RSLPStemmer();       \n",
    "    \n",
    "    dicionario = set()\n",
    "    for lista in textosTokenizados:\n",
    "        validas = [stemmer.stem(palavra) for palavra in lista if palavra not in stopwords and len(palavra) > 2]\n",
    "        dicionario.update(validas)\n",
    "    \n",
    "\n",
    "    totalDePalavras = len(dicionario)\n",
    "    \n",
    "    tuplas = zip(dicionario, range(totalDePalavras))\n",
    "    tradutor = {palavra: indice for palavra, indice in tuplas}\n",
    "\n",
    "    vetoresDeTexto = [vetorizar_texto(texto, tradutor, stemmer) for texto in textosTokenizados]\n",
    "    #print(tradutor)\n",
    "    return vetoresDeTexto, dicionario"
   ]
  },
  {
   "cell_type": "code",
   "execution_count": 7,
   "metadata": {},
   "outputs": [],
   "source": [
    "def pre_processamento_validacao(dados, dicionario):\n",
    "    #aplica a tokenização\n",
    "    textosTokenizados = [nltk.tokenize.word_tokenize(frase) for frase in dados]\n",
    "\n",
    "    #aplica as stop words, isto é, remove os pronomes e etc.\n",
    "    stopwords = nltk.corpus.stopwords.words('portuguese')\n",
    "    \n",
    "    #aplica steem, isto é, deixa a palavra na forma raiz\n",
    "    stemmer = nltk.stem.RSLPStemmer();\n",
    "    \n",
    "    totalDePalavras = len(dicionario)\n",
    "    #print(totalDePalavras)\n",
    "    #print(dicionario)\n",
    "    tuplas = zip(dicionario, range(totalDePalavras))\n",
    "    tradutor = {palavra: indice for palavra, indice in tuplas}\n",
    "\n",
    "    vetoresDeTexto = [vetorizar_texto(texto, tradutor, stemmer) for texto in textosTokenizados]\n",
    "\n",
    "    return vetoresDeTexto"
   ]
  },
  {
   "cell_type": "markdown",
   "metadata": {},
   "source": [
    "#### 5.  Válidações e métodos utilizados"
   ]
  },
  {
   "cell_type": "markdown",
   "metadata": {},
   "source": [
    "##### 5.1.  Holdout\n",
    "    Divisao dos dados: 70 treino /30 teste"
   ]
  },
  {
   "cell_type": "code",
   "execution_count": 20,
   "metadata": {},
   "outputs": [],
   "source": [
    "def holdoutValidacao(atributos, rotulos):\n",
    "    return train_test_split(atributos, rotulos, test_size=0.3, random_state=42)"
   ]
  },
  {
   "cell_type": "markdown",
   "metadata": {},
   "source": [
    "##### 5.2.  Cross-Validation K-Fold\n",
    "    K = 5 (será utilizada técnicas de otimizações para encontrar o melhor K)"
   ]
  },
  {
   "cell_type": "markdown",
   "metadata": {},
   "source": [
    "##### 5.2.  Cross-Validation K-Fold (Estrátificado)\n",
    "    K = 5 (será utilizada técnicas de otimizações para encontrar o melhor K)"
   ]
  },
  {
   "cell_type": "markdown",
   "metadata": {},
   "source": [
    "#### 6.  Modelos e algoritmos"
   ]
  },
  {
   "cell_type": "markdown",
   "metadata": {},
   "source": [
    "#### 7.  Processamento\n",
    "    Os dados coletados estão na váriavel 'tweets'"
   ]
  },
  {
   "cell_type": "code",
   "execution_count": 19,
   "metadata": {},
   "outputs": [
    {
     "ename": "TypeError",
     "evalue": "holdoutValidacao() missing 1 required positional argument: 'tamanho_teste'",
     "output_type": "error",
     "traceback": [
      "\u001b[1;31m---------------------------------------------------------------------------\u001b[0m",
      "\u001b[1;31mTypeError\u001b[0m                                 Traceback (most recent call last)",
      "\u001b[1;32m<ipython-input-19-10f268fca780>\u001b[0m in \u001b[0;36m<module>\u001b[1;34m\u001b[0m\n\u001b[0;32m      1\u001b[0m \u001b[0matributo\u001b[0m\u001b[1;33m,\u001b[0m \u001b[0mrotulos\u001b[0m \u001b[1;33m=\u001b[0m \u001b[0msepara_atributos_rotulos\u001b[0m\u001b[1;33m(\u001b[0m\u001b[0mtweets\u001b[0m\u001b[1;33m)\u001b[0m\u001b[1;33m\u001b[0m\u001b[1;33m\u001b[0m\u001b[0m\n\u001b[0;32m      2\u001b[0m \u001b[0matributo\u001b[0m \u001b[1;33m=\u001b[0m \u001b[0mtransformacao_minuscula\u001b[0m\u001b[1;33m(\u001b[0m\u001b[0matributos\u001b[0m\u001b[1;33m)\u001b[0m\u001b[1;33m\u001b[0m\u001b[1;33m\u001b[0m\u001b[0m\n\u001b[1;32m----> 3\u001b[1;33m \u001b[0mtreino_dados\u001b[0m\u001b[1;33m,\u001b[0m \u001b[0mtreino_marcacoes\u001b[0m\u001b[1;33m,\u001b[0m \u001b[0mvalidacao_dados\u001b[0m\u001b[1;33m,\u001b[0m \u001b[0mvalidacao_marcacoes\u001b[0m\u001b[1;33m,\u001b[0m \u001b[0mtamanho_de_treino\u001b[0m \u001b[1;33m=\u001b[0m \u001b[0mholdoutValidacao\u001b[0m\u001b[1;33m(\u001b[0m\u001b[0matributo\u001b[0m\u001b[1;33m,\u001b[0m \u001b[0mrotulos\u001b[0m\u001b[1;33m)\u001b[0m\u001b[1;33m\u001b[0m\u001b[1;33m\u001b[0m\u001b[0m\n\u001b[0m\u001b[0;32m      4\u001b[0m \u001b[1;33m\u001b[0m\u001b[0m\n",
      "\u001b[1;31mTypeError\u001b[0m: holdoutValidacao() missing 1 required positional argument: 'tamanho_teste'"
     ]
    }
   ],
   "source": [
    "atributo, rotulos = separa_atributos_rotulos(tweets)\n",
    "atributo = transformacao_minuscula(atributos)\n",
    "treino_dados, treino_marcacoes, validacao_dados, validacao_marcacoes, tamanho_de_treino = holdoutValidacao(atributo, rotulos)\n",
    "\n"
   ]
  },
  {
   "cell_type": "code",
   "execution_count": null,
   "metadata": {},
   "outputs": [],
   "source": []
  }
 ],
 "metadata": {
  "kernelspec": {
   "display_name": "Python 3",
   "language": "python",
   "name": "python3"
  },
  "language_info": {
   "codemirror_mode": {
    "name": "ipython",
    "version": 3
   },
   "file_extension": ".py",
   "mimetype": "text/x-python",
   "name": "python",
   "nbconvert_exporter": "python",
   "pygments_lexer": "ipython3",
   "version": "3.7.1"
  }
 },
 "nbformat": 4,
 "nbformat_minor": 2
}
